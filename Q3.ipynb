{
 "cells": [
  {
   "cell_type": "code",
   "execution_count": 1,
   "id": "5f179cdf",
   "metadata": {},
   "outputs": [],
   "source": [
    "import numpy as np   \n",
    "from sklearn.linear_model import LinearRegression\n",
    "import pandas as pd    \n",
    "import matplotlib.pyplot as plt \n",
    "%matplotlib inline \n",
    "import seaborn as sns\n",
    "from sklearn.model_selection import train_test_split # Sklearn package's randomized data splitting function\n"
   ]
  },
  {
   "cell_type": "code",
   "execution_count": 26,
   "id": "b240decb",
   "metadata": {},
   "outputs": [
    {
     "data": {
      "text/plain": [
       "(46, 6)"
      ]
     },
     "execution_count": 26,
     "metadata": {},
     "output_type": "execute_result"
    }
   ],
   "source": [
    "ref_df = pd.read_csv(\"Q3_Sikka data.csv\")  \n",
    "ref_df.shape"
   ]
  },
  {
   "cell_type": "code",
   "execution_count": 27,
   "id": "7d62c7bf",
   "metadata": {},
   "outputs": [
    {
     "data": {
      "text/html": [
       "<div>\n",
       "<style scoped>\n",
       "    .dataframe tbody tr th:only-of-type {\n",
       "        vertical-align: middle;\n",
       "    }\n",
       "\n",
       "    .dataframe tbody tr th {\n",
       "        vertical-align: top;\n",
       "    }\n",
       "\n",
       "    .dataframe thead th {\n",
       "        text-align: right;\n",
       "    }\n",
       "</style>\n",
       "<table border=\"1\" class=\"dataframe\">\n",
       "  <thead>\n",
       "    <tr style=\"text-align: right;\">\n",
       "      <th></th>\n",
       "      <th>Date</th>\n",
       "      <th>DAU</th>\n",
       "      <th>Installs</th>\n",
       "      <th>Uninstalls</th>\n",
       "      <th>Signups</th>\n",
       "      <th>Referrals</th>\n",
       "    </tr>\n",
       "  </thead>\n",
       "  <tbody>\n",
       "    <tr>\n",
       "      <th>0</th>\n",
       "      <td>2022-10-01</td>\n",
       "      <td>24071</td>\n",
       "      <td>6630</td>\n",
       "      <td>6994</td>\n",
       "      <td>3511</td>\n",
       "      <td>962.0</td>\n",
       "    </tr>\n",
       "    <tr>\n",
       "      <th>1</th>\n",
       "      <td>2022-10-02</td>\n",
       "      <td>23548</td>\n",
       "      <td>6366</td>\n",
       "      <td>6669</td>\n",
       "      <td>3387</td>\n",
       "      <td>941.0</td>\n",
       "    </tr>\n",
       "    <tr>\n",
       "      <th>2</th>\n",
       "      <td>2022-10-03</td>\n",
       "      <td>24572</td>\n",
       "      <td>6936</td>\n",
       "      <td>6899</td>\n",
       "      <td>3654</td>\n",
       "      <td>940.0</td>\n",
       "    </tr>\n",
       "    <tr>\n",
       "      <th>3</th>\n",
       "      <td>2022-10-04</td>\n",
       "      <td>24212</td>\n",
       "      <td>6561</td>\n",
       "      <td>6766</td>\n",
       "      <td>3532</td>\n",
       "      <td>960.0</td>\n",
       "    </tr>\n",
       "    <tr>\n",
       "      <th>4</th>\n",
       "      <td>2022-10-05</td>\n",
       "      <td>23247</td>\n",
       "      <td>6059</td>\n",
       "      <td>6402</td>\n",
       "      <td>3315</td>\n",
       "      <td>923.0</td>\n",
       "    </tr>\n",
       "  </tbody>\n",
       "</table>\n",
       "</div>"
      ],
      "text/plain": [
       "         Date    DAU  Installs  Uninstalls  Signups  Referrals\n",
       "0  2022-10-01  24071      6630        6994     3511      962.0\n",
       "1  2022-10-02  23548      6366        6669     3387      941.0\n",
       "2  2022-10-03  24572      6936        6899     3654      940.0\n",
       "3  2022-10-04  24212      6561        6766     3532      960.0\n",
       "4  2022-10-05  23247      6059        6402     3315      923.0"
      ]
     },
     "execution_count": 27,
     "metadata": {},
     "output_type": "execute_result"
    }
   ],
   "source": [
    "ref_df.head()"
   ]
  },
  {
   "cell_type": "code",
   "execution_count": 28,
   "id": "b2bff7e0",
   "metadata": {},
   "outputs": [],
   "source": [
    "#dropping/ignoring car_name \n",
    "ref_df = ref_df.drop('Date', axis=1)"
   ]
  },
  {
   "cell_type": "code",
   "execution_count": 29,
   "id": "6b4dfca3",
   "metadata": {},
   "outputs": [
    {
     "data": {
      "text/html": [
       "<div>\n",
       "<style scoped>\n",
       "    .dataframe tbody tr th:only-of-type {\n",
       "        vertical-align: middle;\n",
       "    }\n",
       "\n",
       "    .dataframe tbody tr th {\n",
       "        vertical-align: top;\n",
       "    }\n",
       "\n",
       "    .dataframe thead th {\n",
       "        text-align: right;\n",
       "    }\n",
       "</style>\n",
       "<table border=\"1\" class=\"dataframe\">\n",
       "  <thead>\n",
       "    <tr style=\"text-align: right;\">\n",
       "      <th></th>\n",
       "      <th>DAU</th>\n",
       "      <th>Installs</th>\n",
       "      <th>Uninstalls</th>\n",
       "      <th>Signups</th>\n",
       "      <th>Referrals</th>\n",
       "    </tr>\n",
       "  </thead>\n",
       "  <tbody>\n",
       "    <tr>\n",
       "      <th>count</th>\n",
       "      <td>46.000000</td>\n",
       "      <td>46.000000</td>\n",
       "      <td>46.000000</td>\n",
       "      <td>46.000000</td>\n",
       "      <td>31.000000</td>\n",
       "    </tr>\n",
       "    <tr>\n",
       "      <th>mean</th>\n",
       "      <td>17788.586957</td>\n",
       "      <td>5064.978261</td>\n",
       "      <td>5494.347826</td>\n",
       "      <td>2550.891304</td>\n",
       "      <td>770.161290</td>\n",
       "    </tr>\n",
       "    <tr>\n",
       "      <th>std</th>\n",
       "      <td>4892.080923</td>\n",
       "      <td>1624.796773</td>\n",
       "      <td>1402.885078</td>\n",
       "      <td>991.987348</td>\n",
       "      <td>249.692891</td>\n",
       "    </tr>\n",
       "    <tr>\n",
       "      <th>min</th>\n",
       "      <td>12042.000000</td>\n",
       "      <td>3074.000000</td>\n",
       "      <td>3815.000000</td>\n",
       "      <td>1363.000000</td>\n",
       "      <td>384.000000</td>\n",
       "    </tr>\n",
       "    <tr>\n",
       "      <th>25%</th>\n",
       "      <td>13380.250000</td>\n",
       "      <td>3708.750000</td>\n",
       "      <td>4321.250000</td>\n",
       "      <td>1729.500000</td>\n",
       "      <td>543.500000</td>\n",
       "    </tr>\n",
       "    <tr>\n",
       "      <th>50%</th>\n",
       "      <td>15059.500000</td>\n",
       "      <td>4479.500000</td>\n",
       "      <td>4738.000000</td>\n",
       "      <td>2065.500000</td>\n",
       "      <td>801.000000</td>\n",
       "    </tr>\n",
       "    <tr>\n",
       "      <th>75%</th>\n",
       "      <td>23472.750000</td>\n",
       "      <td>6332.000000</td>\n",
       "      <td>6741.750000</td>\n",
       "      <td>3369.000000</td>\n",
       "      <td>961.000000</td>\n",
       "    </tr>\n",
       "    <tr>\n",
       "      <th>max</th>\n",
       "      <td>25156.000000</td>\n",
       "      <td>8937.000000</td>\n",
       "      <td>8215.000000</td>\n",
       "      <td>4974.000000</td>\n",
       "      <td>1193.000000</td>\n",
       "    </tr>\n",
       "  </tbody>\n",
       "</table>\n",
       "</div>"
      ],
      "text/plain": [
       "                DAU     Installs   Uninstalls      Signups    Referrals\n",
       "count     46.000000    46.000000    46.000000    46.000000    31.000000\n",
       "mean   17788.586957  5064.978261  5494.347826  2550.891304   770.161290\n",
       "std     4892.080923  1624.796773  1402.885078   991.987348   249.692891\n",
       "min    12042.000000  3074.000000  3815.000000  1363.000000   384.000000\n",
       "25%    13380.250000  3708.750000  4321.250000  1729.500000   543.500000\n",
       "50%    15059.500000  4479.500000  4738.000000  2065.500000   801.000000\n",
       "75%    23472.750000  6332.000000  6741.750000  3369.000000   961.000000\n",
       "max    25156.000000  8937.000000  8215.000000  4974.000000  1193.000000"
      ]
     },
     "execution_count": 29,
     "metadata": {},
     "output_type": "execute_result"
    }
   ],
   "source": [
    "#A quick summary of the data columns\n",
    "ref_df.describe()"
   ]
  },
  {
   "cell_type": "code",
   "execution_count": 30,
   "id": "c7061b75",
   "metadata": {},
   "outputs": [],
   "source": [
    "# lets build our linear model\n",
    "# independant variables\n",
    "X = ref_df.drop(['Referrals'], axis=1)\n",
    "X_train = X.loc[:30]\n",
    "# the dependent variable\n",
    "y = ref_df.loc[:30, 'Referrals']\n"
   ]
  },
  {
   "cell_type": "code",
   "execution_count": 31,
   "id": "b7edbde7",
   "metadata": {},
   "outputs": [
    {
     "data": {
      "text/plain": [
       "LinearRegression()"
      ]
     },
     "execution_count": 31,
     "metadata": {},
     "output_type": "execute_result"
    }
   ],
   "source": [
    "reg_model = LinearRegression()\n",
    "reg_model.fit(X_train, y)"
   ]
  },
  {
   "cell_type": "code",
   "execution_count": 32,
   "id": "734eab9e",
   "metadata": {},
   "outputs": [
    {
     "data": {
      "text/plain": [
       "0.9407845507514737"
      ]
     },
     "execution_count": 32,
     "metadata": {},
     "output_type": "execute_result"
    }
   ],
   "source": [
    "reg_model.score(X_train, y)"
   ]
  },
  {
   "cell_type": "code",
   "execution_count": 33,
   "id": "be339494",
   "metadata": {},
   "outputs": [],
   "source": [
    "X_test = X.loc[31:]"
   ]
  },
  {
   "cell_type": "code",
   "execution_count": 34,
   "id": "f338ff9e",
   "metadata": {},
   "outputs": [
    {
     "data": {
      "text/plain": [
       "array([495.15377769, 459.46128305, 410.5597572 , 473.2384597 ,\n",
       "       446.47801822, 475.01270888, 441.08282083, 472.43494323,\n",
       "       516.29814227, 527.80448561, 545.86792499, 525.49702964,\n",
       "       556.22034612, 561.18741976, 699.07147059])"
      ]
     },
     "execution_count": 34,
     "metadata": {},
     "output_type": "execute_result"
    }
   ],
   "source": [
    "X_test = X.loc[31:]\n",
    "y_pred = reg_model.predict(X_test)\n",
    "y_pred"
   ]
  },
  {
   "cell_type": "code",
   "execution_count": 35,
   "id": "716400bd",
   "metadata": {},
   "outputs": [],
   "source": [
    "# create a new dataframe with the predicted output\n",
    "output_df = pd.DataFrame({'y_pred': y_pred})\n",
    "\n",
    "# export the dataframe to a CSV file\n",
    "output_df.to_csv('predicted_output.csv', index=False)"
   ]
  },
  {
   "cell_type": "code",
   "execution_count": null,
   "id": "acb71f9f",
   "metadata": {},
   "outputs": [],
   "source": []
  }
 ],
 "metadata": {
  "kernelspec": {
   "display_name": "Python 3 (ipykernel)",
   "language": "python",
   "name": "python3"
  },
  "language_info": {
   "codemirror_mode": {
    "name": "ipython",
    "version": 3
   },
   "file_extension": ".py",
   "mimetype": "text/x-python",
   "name": "python",
   "nbconvert_exporter": "python",
   "pygments_lexer": "ipython3",
   "version": "3.9.12"
  }
 },
 "nbformat": 4,
 "nbformat_minor": 5
}
