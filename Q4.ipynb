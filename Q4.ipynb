{
 "cells": [
  {
   "cell_type": "code",
   "execution_count": 28,
   "id": "71d78820",
   "metadata": {},
   "outputs": [],
   "source": [
    "import numpy as np   \n",
    "from sklearn.linear_model import LinearRegression\n",
    "import pandas as pd    \n",
    "import matplotlib.pyplot as plt \n",
    "%matplotlib inline \n",
    "import seaborn as sns\n",
    "from sklearn.model_selection import train_test_split # Sklearn package's randomized data splitting function\n"
   ]
  },
  {
   "cell_type": "code",
   "execution_count": 29,
   "id": "a1b69679",
   "metadata": {},
   "outputs": [
    {
     "data": {
      "text/plain": [
       "(47935, 10)"
      ]
     },
     "execution_count": 29,
     "metadata": {},
     "output_type": "execute_result"
    }
   ],
   "source": [
    "df = pd.read_csv(\"Q4_ADX_Sample_data.csv\")  \n",
    "df.shape"
   ]
  },
  {
   "cell_type": "code",
   "execution_count": 30,
   "id": "7cbad751",
   "metadata": {},
   "outputs": [
    {
     "data": {
      "text/html": [
       "<div>\n",
       "<style scoped>\n",
       "    .dataframe tbody tr th:only-of-type {\n",
       "        vertical-align: middle;\n",
       "    }\n",
       "\n",
       "    .dataframe tbody tr th {\n",
       "        vertical-align: top;\n",
       "    }\n",
       "\n",
       "    .dataframe thead th {\n",
       "        text-align: right;\n",
       "    }\n",
       "</style>\n",
       "<table border=\"1\" class=\"dataframe\">\n",
       "  <thead>\n",
       "    <tr style=\"text-align: right;\">\n",
       "      <th></th>\n",
       "      <th>date</th>\n",
       "      <th>pub_id</th>\n",
       "      <th>app_id</th>\n",
       "      <th>ad_unit_code</th>\n",
       "      <th>country</th>\n",
       "      <th>requests</th>\n",
       "      <th>ae_responses</th>\n",
       "      <th>ae_impressions</th>\n",
       "      <th>ae_clicks</th>\n",
       "      <th>ae_revenue</th>\n",
       "    </tr>\n",
       "  </thead>\n",
       "  <tbody>\n",
       "    <tr>\n",
       "      <th>0</th>\n",
       "      <td>2022-10-20</td>\n",
       "      <td>1987</td>\n",
       "      <td>16243270</td>\n",
       "      <td>22832846443</td>\n",
       "      <td>Tanzania</td>\n",
       "      <td>36</td>\n",
       "      <td>36</td>\n",
       "      <td>34</td>\n",
       "      <td>0</td>\n",
       "      <td>0.035738</td>\n",
       "    </tr>\n",
       "    <tr>\n",
       "      <th>1</th>\n",
       "      <td>2022-10-20</td>\n",
       "      <td>1987</td>\n",
       "      <td>16243270</td>\n",
       "      <td>22832846593</td>\n",
       "      <td>Tanzania</td>\n",
       "      <td>24</td>\n",
       "      <td>24</td>\n",
       "      <td>23</td>\n",
       "      <td>0</td>\n",
       "      <td>0.064384</td>\n",
       "    </tr>\n",
       "    <tr>\n",
       "      <th>2</th>\n",
       "      <td>2022-10-20</td>\n",
       "      <td>1987</td>\n",
       "      <td>16243270</td>\n",
       "      <td>22832846443</td>\n",
       "      <td>Thailand</td>\n",
       "      <td>949</td>\n",
       "      <td>949</td>\n",
       "      <td>876</td>\n",
       "      <td>20</td>\n",
       "      <td>4.943878</td>\n",
       "    </tr>\n",
       "    <tr>\n",
       "      <th>3</th>\n",
       "      <td>2022-10-20</td>\n",
       "      <td>1987</td>\n",
       "      <td>16243270</td>\n",
       "      <td>22832846593</td>\n",
       "      <td>Thailand</td>\n",
       "      <td>1006</td>\n",
       "      <td>907</td>\n",
       "      <td>688</td>\n",
       "      <td>134</td>\n",
       "      <td>24.226836</td>\n",
       "    </tr>\n",
       "    <tr>\n",
       "      <th>4</th>\n",
       "      <td>2022-10-20</td>\n",
       "      <td>1987</td>\n",
       "      <td>16243270</td>\n",
       "      <td>22832827729</td>\n",
       "      <td>Thailand</td>\n",
       "      <td>373</td>\n",
       "      <td>287</td>\n",
       "      <td>156</td>\n",
       "      <td>20</td>\n",
       "      <td>2.759392</td>\n",
       "    </tr>\n",
       "  </tbody>\n",
       "</table>\n",
       "</div>"
      ],
      "text/plain": [
       "         date  pub_id    app_id  ad_unit_code   country  requests  \\\n",
       "0  2022-10-20    1987  16243270   22832846443  Tanzania        36   \n",
       "1  2022-10-20    1987  16243270   22832846593  Tanzania        24   \n",
       "2  2022-10-20    1987  16243270   22832846443  Thailand       949   \n",
       "3  2022-10-20    1987  16243270   22832846593  Thailand      1006   \n",
       "4  2022-10-20    1987  16243270   22832827729  Thailand       373   \n",
       "\n",
       "   ae_responses  ae_impressions  ae_clicks  ae_revenue  \n",
       "0            36              34          0    0.035738  \n",
       "1            24              23          0    0.064384  \n",
       "2           949             876         20    4.943878  \n",
       "3           907             688        134   24.226836  \n",
       "4           287             156         20    2.759392  "
      ]
     },
     "execution_count": 30,
     "metadata": {},
     "output_type": "execute_result"
    }
   ],
   "source": [
    "df.head()"
   ]
  },
  {
   "cell_type": "code",
   "execution_count": 37,
   "id": "174e32b6",
   "metadata": {},
   "outputs": [],
   "source": [
    "# set threshold for outlier detection\n",
    "threshold = 1.5\n",
    "\n",
    "# identify outliers in each column\n",
    "q1 = df.quantile(0.25)\n",
    "q3 = df.quantile(0.75)\n",
    "\n",
    "iqr = q3 - q1\n",
    "outliers_ae_impressions = df[(df['ae_impressions'] < q1['ae_impressions'] - threshold*iqr['ae_impressions']) | (df['ae_impressions'] > q3['ae_impressions'] + threshold*iqr['ae_impressions'])]\n",
    "outliers_ae_clicks = df[(df['ae_clicks'] < q1['ae_clicks'] - threshold*iqr['ae_clicks']) | (df['ae_clicks'] > q3['ae_clicks'] + threshold*iqr['ae_clicks'])]\n",
    "\n"
   ]
  },
  {
   "cell_type": "code",
   "execution_count": 38,
   "id": "dfc67970",
   "metadata": {},
   "outputs": [
    {
     "data": {
      "text/plain": [
       "6445"
      ]
     },
     "execution_count": 38,
     "metadata": {},
     "output_type": "execute_result"
    }
   ],
   "source": [
    "len(outliers_ae_impressions)"
   ]
  },
  {
   "cell_type": "code",
   "execution_count": 39,
   "id": "8efb02d5",
   "metadata": {},
   "outputs": [
    {
     "data": {
      "text/plain": [
       "6445"
      ]
     },
     "execution_count": 39,
     "metadata": {},
     "output_type": "execute_result"
    }
   ],
   "source": [
    "len(outliers_ae_impressions)"
   ]
  },
  {
   "cell_type": "code",
   "execution_count": 41,
   "id": "b9ebcd4a",
   "metadata": {},
   "outputs": [],
   "source": [
    "outliers_requests = df[(df['requests'] < q1['requests'] - threshold*iqr['requests']) | (df['requests'] > q3['requests'] + threshold*iqr['requests'])]\n",
    "outliers_ae_responses = df[(df['ae_responses'] < q1['ae_responses'] - threshold*iqr['ae_responses']) | (df['ae_responses'] > q3['ae_responses'] + threshold*iqr['ae_responses'])]"
   ]
  },
  {
   "cell_type": "code",
   "execution_count": 42,
   "id": "0a877d1c",
   "metadata": {},
   "outputs": [
    {
     "data": {
      "text/plain": [
       "6349"
      ]
     },
     "execution_count": 42,
     "metadata": {},
     "output_type": "execute_result"
    }
   ],
   "source": [
    "len(outliers_requests)"
   ]
  },
  {
   "cell_type": "code",
   "execution_count": 43,
   "id": "007e378c",
   "metadata": {},
   "outputs": [
    {
     "data": {
      "text/plain": [
       "6365"
      ]
     },
     "execution_count": 43,
     "metadata": {},
     "output_type": "execute_result"
    }
   ],
   "source": [
    "len(outliers_ae_responses)"
   ]
  },
  {
   "cell_type": "code",
   "execution_count": 46,
   "id": "708bc1af",
   "metadata": {},
   "outputs": [],
   "source": [
    "outliers_ae_revenue = df[(df['ae_revenue'] < q1['ae_revenue'] - threshold*iqr['ae_revenue']) | (df['ae_revenue'] > q3['ae_revenue'] + threshold*iqr['ae_revenue'])]"
   ]
  },
  {
   "cell_type": "code",
   "execution_count": 47,
   "id": "7e45857f",
   "metadata": {},
   "outputs": [
    {
     "data": {
      "text/plain": [
       "3403"
      ]
     },
     "execution_count": 47,
     "metadata": {},
     "output_type": "execute_result"
    }
   ],
   "source": [
    "len(outliers_ae_revenue)"
   ]
  },
  {
   "cell_type": "code",
   "execution_count": null,
   "id": "b23a3711",
   "metadata": {},
   "outputs": [],
   "source": []
  }
 ],
 "metadata": {
  "kernelspec": {
   "display_name": "Python 3 (ipykernel)",
   "language": "python",
   "name": "python3"
  },
  "language_info": {
   "codemirror_mode": {
    "name": "ipython",
    "version": 3
   },
   "file_extension": ".py",
   "mimetype": "text/x-python",
   "name": "python",
   "nbconvert_exporter": "python",
   "pygments_lexer": "ipython3",
   "version": "3.9.12"
  }
 },
 "nbformat": 4,
 "nbformat_minor": 5
}
